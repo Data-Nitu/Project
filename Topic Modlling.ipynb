{
 "cells": [
  {
   "cell_type": "code",
   "execution_count": null,
   "id": "6878f1be",
   "metadata": {},
   "outputs": [],
   "source": [
    "url = \"https://www.opindia.com/latest-news/page/\""
   ]
  },
  {
   "cell_type": "code",
   "execution_count": null,
   "id": "84e413bf",
   "metadata": {},
   "outputs": [],
   "source": [
    "urllist = []\n",
    "for i in range(2,3,1):\n",
    "    x = url + str(i) + \"/\"\n",
    "    urllist.append(x)"
   ]
  },
  {
   "cell_type": "code",
   "execution_count": null,
   "id": "c51e214c",
   "metadata": {},
   "outputs": [],
   "source": [
    "urllist"
   ]
  },
  {
   "cell_type": "code",
   "execution_count": null,
   "id": "3e27059c",
   "metadata": {},
   "outputs": [],
   "source": [
    "from bs4 import BeautifulSoup\n",
    "import requests\n",
    "url = \"https://www.opindia.com/latest-news/\"\n",
    "data = requests.get(url"
   ]
  },
  {
   "cell_type": "code",
   "execution_count": null,
   "id": "dd153a95",
   "metadata": {},
   "outputs": [],
   "source": [
    "soup = BeautifulSoup(data.content,\"html.parser\")"
   ]
  },
  {
   "cell_type": "markdown",
   "id": "8afbad8e",
   "metadata": {},
   "source": [
    "# Find Headlinnes for the Article"
   ]
  },
  {
   "cell_type": "code",
   "execution_count": null,
   "id": "33ef8418",
   "metadata": {},
   "outputs": [],
   "source": [
    "headlines = []\n",
    "for i in soup.find_all(\"h3\"):\n",
    "    hl = i.find(\"a\")[\"title\"]\n",
    "    headlines.append(hl)"
   ]
  },
  {
   "cell_type": "markdown",
   "id": "9042170f",
   "metadata": {},
   "source": [
    "Even after the error,we still have data in our list"
   ]
  },
  {
   "cell_type": "code",
   "execution_count": null,
   "id": "94c63ce5",
   "metadata": {},
   "outputs": [],
   "source": [
    "#headlines"
   ]
  },
  {
   "cell_type": "markdown",
   "id": "e5437fc7",
   "metadata": {},
   "source": [
    "# Find URL for the Article"
   ]
  },
  {
   "cell_type": "code",
   "execution_count": null,
   "id": "683b8364",
   "metadata": {},
   "outputs": [],
   "source": [
    "url_for_articles = []\n",
    "for i in soup.find_all(\"h3\"):\n",
    "    url_for_articles.append(i.find(\"a\")[\"href\"])"
   ]
  },
  {
   "cell_type": "markdown",
   "id": "76c517f3",
   "metadata": {},
   "source": [
    "# You have headlines, Now based on URL get the Article"
   ]
  },
  {
   "cell_type": "code",
   "execution_count": null,
   "id": "aead4ea5",
   "metadata": {},
   "outputs": [],
   "source": [
    "url = \"https:www.opindia.com/2022/02/bidden-to-spitt-7-billion-afghan-assestd-for-9-11-victtims-and-humanitarian-aid-for-afghnistan/\"\n",
    "data1 = requests.get(url)\n",
    "soup1 = BeautifulSoup(data.containt,\"html.parser\")"
   ]
  },
  {
   "cell_type": "code",
   "execution_count": null,
   "id": "ae9d4f8c",
   "metadata": {},
   "outputs": [],
   "source": [
    "for i in soup1.find_all(\"div\",class_=\"tdb-block-inner td-fix-index\"):\n",
    "    article = i.text"
   ]
  },
  {
   "cell_type": "markdown",
   "id": "0f03ee8b",
   "metadata": {},
   "source": [
    "# Get all URLS"
   ]
  },
  {
   "cell_type": "code",
   "execution_count": null,
   "id": "33fa3b23",
   "metadata": {},
   "outputs": [],
   "source": [
    "master_url_list = []\n",
    "for i in urllist:\n",
    "    for i in soup.find_all(\"h3\"):\n",
    "        master_url_list.append(i.find(\"a\")[\"href\"])"
   ]
  },
  {
   "cell_type": "markdown",
   "id": "d90691a5",
   "metadata": {},
   "source": [
    "# Get all Articles"
   ]
  },
  {
   "cell_type": "code",
   "execution_count": null,
   "id": "bd7e4c67",
   "metadata": {},
   "outputs": [],
   "source": [
    "articles = []\n",
    "\n",
    "def article_fetch(url):\n",
    "    data1 = requests.get(url)\n",
    "    soup1 = BeautifulSoup(data1.content,\"html.parser\")\n",
    "    art = \"\"\n",
    "    for i in soup1.find_all(\"div\",class_=\"tdb-block-inner td-fix-index\"):\n",
    "        art = art+ str(i.text)\n",
    "    return(art)    "
   ]
  },
  {
   "cell_type": "code",
   "execution_count": null,
   "id": "cc386bc3",
   "metadata": {},
   "outputs": [],
   "source": [
    "for i in master_url_list:\n",
    "    article = article_fetch(i)\n",
    "    articles.append(article[27:len(article)])"
   ]
  },
  {
   "cell_type": "code",
   "execution_count": null,
   "id": "4d35c1fa",
   "metadata": {},
   "outputs": [],
   "source": [
    "art = []\n",
    "for i in range(0,len(articles)):\n",
    "    art.append(articles[i][27:len(articles[i])])"
   ]
  },
  {
   "cell_type": "code",
   "execution_count": null,
   "id": "1afd9fe3",
   "metadata": {},
   "outputs": [],
   "source": [
    "dates = []\n",
    "for i in articles:\n",
    "    dates.append(i[0:20])"
   ]
  },
  {
   "cell_type": "code",
   "execution_count": null,
   "id": "dde02b00",
   "metadata": {},
   "outputs": [],
   "source": [
    "import pandas as pd\n",
    "Q = pd.DataFrame([dates,headlines,art]).T\n",
    "Q.columns = [\"Date\",\"Headline\",\"News_article\"]\n",
    "Q.head()"
   ]
  },
  {
   "cell_type": "markdown",
   "id": "53320e2e",
   "metadata": {},
   "source": [
    "# Preprocessing Articles"
   ]
  },
  {
   "cell_type": "code",
   "execution_count": null,
   "id": "08dbc640",
   "metadata": {},
   "outputs": [],
   "source": [
    "import re\n",
    "ppd = []\n",
    "for i in art:\n",
    "    q = i.lower()\n",
    "    q = re.sub(\"[^a-zA-Z ]\",\"\",q)\n",
    "    ppd.append(q)\n",
    "    \n",
    "#Removal of special chars and conversion to lower case"
   ]
  },
  {
   "cell_type": "code",
   "execution_count": null,
   "id": "ab42c76d",
   "metadata": {},
   "outputs": [],
   "source": [
    "from nltk.stem import LancasterStemmer\n",
    "ps = LancasterStemmer()\n",
    "\n",
    "from nltk.stem import WordNetLemmatizer \n",
    "lem = WordNetLemmatizer()\n",
    "E = []\n",
    "ppdf = []\n",
    "for j in range(0,len(ppd)):\n",
    "    wnl = []\n",
    "    for i in ppd[j].split(\" \"):\n",
    "        wnl.append(lem.lemmatize(ps.stem(i)))\n",
    "        E.append(lem.lemmatize(ps.stem(i)))\n",
    "        \n",
    "    ppdf.append(wnl)\n",
    "\n",
    "#stemming and lemmatization"
   ]
  },
  {
   "cell_type": "code",
   "execution_count": null,
   "id": "50372e57",
   "metadata": {},
   "outputs": [],
   "source": [
    "len(ppdf)"
   ]
  },
  {
   "cell_type": "code",
   "execution_count": null,
   "id": "abf4b7e3",
   "metadata": {},
   "outputs": [],
   "source": [
    "#Q.News_article = ppdf"
   ]
  },
  {
   "cell_type": "code",
   "execution_count": null,
   "id": "c7d9a6de",
   "metadata": {},
   "outputs": [],
   "source": [
    "Q.head()"
   ]
  },
  {
   "cell_type": "code",
   "execution_count": null,
   "id": "49bb41d5",
   "metadata": {},
   "outputs": [],
   "source": [
    "from sklearn.feature_extraction.text import TfidfVectorizer\n",
    "tfidf = TfidfVectorizer()\n",
    "X = tfidf.fit_transform(E).toarray()"
   ]
  },
  {
   "cell_type": "code",
   "execution_count": null,
   "id": "d2e1bbcb",
   "metadata": {},
   "outputs": [],
   "source": [
    "#tfidf.vocabulary_"
   ]
  },
  {
   "cell_type": "code",
   "execution_count": null,
   "id": "0cad2fd6",
   "metadata": {},
   "outputs": [],
   "source": [
    "X"
   ]
  },
  {
   "cell_type": "code",
   "execution_count": null,
   "id": "a04542f3",
   "metadata": {},
   "outputs": [],
   "source": [
    "words = tfidf.get_feature_names()"
   ]
  },
  {
   "cell_type": "code",
   "execution_count": null,
   "id": "30c31808",
   "metadata": {},
   "outputs": [],
   "source": [
    "from sklearn.cluster import KMeans\n",
    "km = KMeans(n_clusters=3)\n",
    "model = km.fit(X)"
   ]
  },
  {
   "cell_type": "code",
   "execution_count": null,
   "id": "1f46e9d5",
   "metadata": {},
   "outputs": [],
   "source": [
    "model.labels_"
   ]
  },
  {
   "cell_type": "code",
   "execution_count": null,
   "id": "ad944895",
   "metadata": {},
   "outputs": [],
   "source": [
    "#Q1 = pd.DataFrame([words,model.labels_]).T"
   ]
  },
  {
   "cell_type": "code",
   "execution_count": null,
   "id": "4d14c706",
   "metadata": {},
   "outputs": [],
   "source": [
    "#cw = model.cluster_centers_.argsort()"
   ]
  },
  {
   "cell_type": "code",
   "execution_count": null,
   "id": "6e6bcb72",
   "metadata": {},
   "outputs": [],
   "source": [
    "P = {}"
   ]
  },
  {
   "cell_type": "code",
   "execution_count": null,
   "id": "b10be443",
   "metadata": {},
   "outputs": [],
   "source": [
    "for i in Q1.index:\n",
    "    P[i]=E[i]\n",
    "    \n",
    "# Created a dictionary for lookup"
   ]
  },
  {
   "cell_type": "code",
   "execution_count": null,
   "id": "55086750",
   "metadata": {},
   "outputs": [],
   "source": [
    "for i in Q1.index:\n",
    "    P[i]=E[i]\n",
    "    \n",
    "# Created a dictionary for lookup"
   ]
  },
  {
   "cell_type": "code",
   "execution_count": null,
   "id": "e515141e",
   "metadata": {},
   "outputs": [],
   "source": [
    "list(enumerate(model.cluster_centers_.argsort()))"
   ]
  },
  {
   "cell_type": "code",
   "execution_count": null,
   "id": "5b6758bb",
   "metadata": {},
   "outputs": [],
   "source": [
    "for i,j in list(enumerate(model.cluster_centers_.argsort())):\n",
    "    for w in j:\n",
    "        print(i,P[w])"
   ]
  },
  {
   "cell_type": "code",
   "execution_count": null,
   "id": "00f810cb",
   "metadata": {},
   "outputs": [],
   "source": [
    "for i,j in list(enumerate(model.cluster_centers_.argsort()[:,:-30:-1])):\n",
    "    for w in j:\n",
    "        print(i,P[w])"
   ]
  },
  {
   "cell_type": "markdown",
   "id": "2d9f81d6",
   "metadata": {},
   "source": [
    "import nltk nltk.download()"
   ]
  },
  {
   "cell_type": "code",
   "execution_count": null,
   "id": "b070d645",
   "metadata": {},
   "outputs": [],
   "source": [
    "from sklearn.decomposition import NMF\n",
    "nm = NMF(n_components=3,random_state=21)\n",
    "model = nm.fit(X)"
   ]
  },
  {
   "cell_type": "code",
   "execution_count": null,
   "id": "04d5cfcf",
   "metadata": {},
   "outputs": [],
   "source": [
    "inp = [\"Republic TV sued for its content\"]\n",
    "\n",
    "q = nm.transform(tfidf.transform(inp)).argsort()[0][2\n",
    "\n",
    "\n",
    "\n"
   ]
  },
  {
   "cell_type": "code",
   "execution_count": null,
   "id": "781cc9cd",
   "metadata": {},
   "outputs": [],
   "source": [
    "print(\"Following article belongs to cluster: \",q)"
   ]
  },
  {
   "cell_type": "code",
   "execution_count": null,
   "id": "b9c1fc71",
   "metadata": {},
   "outputs": [],
   "source": [
    "40% --> 2\n",
    "25% --> 1\n",
    "35% --> 0"
   ]
  },
  {
   "cell_type": "code",
   "execution_count": null,
   "id": "952be996",
   "metadata": {},
   "outputs": [],
   "source": [
    "25% --> 1\n",
    "35% --> 0\n",
    "40% --> 2"
   ]
  },
  {
   "cell_type": "code",
   "execution_count": null,
   "id": "38484305",
   "metadata": {},
   "outputs": [],
   "source": []
  },
  {
   "cell_type": "code",
   "execution_count": null,
   "id": "b6336cd0",
   "metadata": {},
   "outputs": [],
   "source": []
  }
 ],
 "metadata": {
  "kernelspec": {
   "display_name": "Python 3 (ipykernel)",
   "language": "python",
   "name": "python3"
  },
  "language_info": {
   "codemirror_mode": {
    "name": "ipython",
    "version": 3
   },
   "file_extension": ".py",
   "mimetype": "text/x-python",
   "name": "python",
   "nbconvert_exporter": "python",
   "pygments_lexer": "ipython3",
   "version": "3.9.7"
  }
 },
 "nbformat": 4,
 "nbformat_minor": 5
}
