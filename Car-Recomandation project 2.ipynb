{
 "cells": [
  {
   "cell_type": "markdown",
   "id": "1f3ab9eb",
   "metadata": {},
   "source": [
    "# Car Recommendation"
   ]
  },
  {
   "cell_type": "markdown",
   "id": "b73eca77",
   "metadata": {},
   "source": [
    "# 1.Fetch data"
   ]
  },
  {
   "cell_type": "code",
   "execution_count": 1,
   "id": "4ee3ebba",
   "metadata": {},
   "outputs": [
    {
     "data": {
      "text/html": [
       "<div>\n",
       "<style scoped>\n",
       "    .dataframe tbody tr th:only-of-type {\n",
       "        vertical-align: middle;\n",
       "    }\n",
       "\n",
       "    .dataframe tbody tr th {\n",
       "        vertical-align: top;\n",
       "    }\n",
       "\n",
       "    .dataframe thead th {\n",
       "        text-align: right;\n",
       "    }\n",
       "</style>\n",
       "<table border=\"1\" class=\"dataframe\">\n",
       "  <thead>\n",
       "    <tr style=\"text-align: right;\">\n",
       "      <th></th>\n",
       "      <th>id</th>\n",
       "      <th>Manufacturer</th>\n",
       "      <th>Model</th>\n",
       "      <th>Type</th>\n",
       "      <th>Min.Price</th>\n",
       "      <th>Price</th>\n",
       "      <th>Max.Price</th>\n",
       "      <th>MPG.city</th>\n",
       "      <th>MPG.highway</th>\n",
       "      <th>AirBags</th>\n",
       "      <th>...</th>\n",
       "      <th>Passengers</th>\n",
       "      <th>Length</th>\n",
       "      <th>Wheelbase</th>\n",
       "      <th>Width</th>\n",
       "      <th>Turn.circle</th>\n",
       "      <th>Rear.seat.room</th>\n",
       "      <th>Luggage.room</th>\n",
       "      <th>Weight</th>\n",
       "      <th>Origin</th>\n",
       "      <th>Make</th>\n",
       "    </tr>\n",
       "  </thead>\n",
       "  <tbody>\n",
       "    <tr>\n",
       "      <th>0</th>\n",
       "      <td>1</td>\n",
       "      <td>Acura</td>\n",
       "      <td>Integra</td>\n",
       "      <td>Small</td>\n",
       "      <td>12.9</td>\n",
       "      <td>15.9</td>\n",
       "      <td>18.8</td>\n",
       "      <td>25</td>\n",
       "      <td>31</td>\n",
       "      <td>None</td>\n",
       "      <td>...</td>\n",
       "      <td>5</td>\n",
       "      <td>177</td>\n",
       "      <td>102</td>\n",
       "      <td>68</td>\n",
       "      <td>37</td>\n",
       "      <td>26.5</td>\n",
       "      <td>11.0</td>\n",
       "      <td>2705</td>\n",
       "      <td>non-USA</td>\n",
       "      <td>Acura Integra</td>\n",
       "    </tr>\n",
       "    <tr>\n",
       "      <th>1</th>\n",
       "      <td>2</td>\n",
       "      <td>Acura</td>\n",
       "      <td>Legend</td>\n",
       "      <td>Midsize</td>\n",
       "      <td>29.2</td>\n",
       "      <td>33.9</td>\n",
       "      <td>38.7</td>\n",
       "      <td>18</td>\n",
       "      <td>25</td>\n",
       "      <td>Driver &amp; Passenger</td>\n",
       "      <td>...</td>\n",
       "      <td>5</td>\n",
       "      <td>195</td>\n",
       "      <td>115</td>\n",
       "      <td>71</td>\n",
       "      <td>38</td>\n",
       "      <td>30.0</td>\n",
       "      <td>15.0</td>\n",
       "      <td>3560</td>\n",
       "      <td>non-USA</td>\n",
       "      <td>Acura Legend</td>\n",
       "    </tr>\n",
       "    <tr>\n",
       "      <th>2</th>\n",
       "      <td>3</td>\n",
       "      <td>Audi</td>\n",
       "      <td>90</td>\n",
       "      <td>Compact</td>\n",
       "      <td>25.9</td>\n",
       "      <td>29.1</td>\n",
       "      <td>32.3</td>\n",
       "      <td>20</td>\n",
       "      <td>26</td>\n",
       "      <td>Driver only</td>\n",
       "      <td>...</td>\n",
       "      <td>5</td>\n",
       "      <td>180</td>\n",
       "      <td>102</td>\n",
       "      <td>67</td>\n",
       "      <td>37</td>\n",
       "      <td>28.0</td>\n",
       "      <td>14.0</td>\n",
       "      <td>3375</td>\n",
       "      <td>non-USA</td>\n",
       "      <td>Audi 90</td>\n",
       "    </tr>\n",
       "    <tr>\n",
       "      <th>3</th>\n",
       "      <td>4</td>\n",
       "      <td>Audi</td>\n",
       "      <td>100</td>\n",
       "      <td>Midsize</td>\n",
       "      <td>30.8</td>\n",
       "      <td>37.7</td>\n",
       "      <td>44.6</td>\n",
       "      <td>19</td>\n",
       "      <td>26</td>\n",
       "      <td>NaN</td>\n",
       "      <td>...</td>\n",
       "      <td>6</td>\n",
       "      <td>193</td>\n",
       "      <td>106</td>\n",
       "      <td>70</td>\n",
       "      <td>37</td>\n",
       "      <td>31.0</td>\n",
       "      <td>17.0</td>\n",
       "      <td>3405</td>\n",
       "      <td>non-USA</td>\n",
       "      <td>Audi 100</td>\n",
       "    </tr>\n",
       "    <tr>\n",
       "      <th>4</th>\n",
       "      <td>5</td>\n",
       "      <td>BMW</td>\n",
       "      <td>535i</td>\n",
       "      <td>Midsize</td>\n",
       "      <td>23.7</td>\n",
       "      <td>30.0</td>\n",
       "      <td>36.2</td>\n",
       "      <td>22</td>\n",
       "      <td>30</td>\n",
       "      <td>Driver only</td>\n",
       "      <td>...</td>\n",
       "      <td>4</td>\n",
       "      <td>186</td>\n",
       "      <td>109</td>\n",
       "      <td>69</td>\n",
       "      <td>39</td>\n",
       "      <td>27.0</td>\n",
       "      <td>13.0</td>\n",
       "      <td>3640</td>\n",
       "      <td>non-USA</td>\n",
       "      <td>BMW 535i</td>\n",
       "    </tr>\n",
       "  </tbody>\n",
       "</table>\n",
       "<p>5 rows × 28 columns</p>\n",
       "</div>"
      ],
      "text/plain": [
       "   id Manufacturer    Model     Type  Min.Price  Price  Max.Price  MPG.city  \\\n",
       "0   1        Acura  Integra    Small       12.9   15.9       18.8        25   \n",
       "1   2        Acura   Legend  Midsize       29.2   33.9       38.7        18   \n",
       "2   3         Audi       90  Compact       25.9   29.1       32.3        20   \n",
       "3   4         Audi      100  Midsize       30.8   37.7       44.6        19   \n",
       "4   5          BMW     535i  Midsize       23.7   30.0       36.2        22   \n",
       "\n",
       "   MPG.highway             AirBags  ... Passengers Length  Wheelbase  Width  \\\n",
       "0           31                None  ...          5    177        102     68   \n",
       "1           25  Driver & Passenger  ...          5    195        115     71   \n",
       "2           26         Driver only  ...          5    180        102     67   \n",
       "3           26                 NaN  ...          6    193        106     70   \n",
       "4           30         Driver only  ...          4    186        109     69   \n",
       "\n",
       "   Turn.circle  Rear.seat.room Luggage.room  Weight   Origin           Make  \n",
       "0           37            26.5         11.0    2705  non-USA  Acura Integra  \n",
       "1           38            30.0         15.0    3560  non-USA   Acura Legend  \n",
       "2           37            28.0         14.0    3375  non-USA        Audi 90  \n",
       "3           37            31.0         17.0    3405  non-USA       Audi 100  \n",
       "4           39            27.0         13.0    3640  non-USA       BMW 535i  \n",
       "\n",
       "[5 rows x 28 columns]"
      ]
     },
     "execution_count": 1,
     "metadata": {},
     "output_type": "execute_result"
    }
   ],
   "source": [
    "from warnings import filterwarnings\n",
    "filterwarnings(\"ignore\")\n",
    "import pandas as pd\n",
    "A=pd.read_csv(\"E:\\data science\\Cars93 (1).csv\")\n",
    "A.head()"
   ]
  },
  {
   "cell_type": "markdown",
   "id": "310669c4",
   "metadata": {},
   "source": [
    "# 2.standarize the data"
   ]
  },
  {
   "cell_type": "code",
   "execution_count": 2,
   "id": "f9c9df67",
   "metadata": {},
   "outputs": [],
   "source": [
    "B=A[[\"Price\",\"MPG.city\"]]\n",
    "from sklearn.preprocessing import MinMaxScaler\n",
    "mm=MinMaxScaler()\n",
    "C=pd.DataFrame(mm.fit_transform(B),columns=[\"Price\",\"MPG.city\"])"
   ]
  },
  {
   "cell_type": "code",
   "execution_count": 3,
   "id": "c9fbc934",
   "metadata": {},
   "outputs": [
    {
     "data": {
      "text/html": [
       "<div>\n",
       "<style scoped>\n",
       "    .dataframe tbody tr th:only-of-type {\n",
       "        vertical-align: middle;\n",
       "    }\n",
       "\n",
       "    .dataframe tbody tr th {\n",
       "        vertical-align: top;\n",
       "    }\n",
       "\n",
       "    .dataframe thead th {\n",
       "        text-align: right;\n",
       "    }\n",
       "</style>\n",
       "<table border=\"1\" class=\"dataframe\">\n",
       "  <thead>\n",
       "    <tr style=\"text-align: right;\">\n",
       "      <th></th>\n",
       "      <th>Price</th>\n",
       "      <th>MPG.city</th>\n",
       "    </tr>\n",
       "  </thead>\n",
       "  <tbody>\n",
       "    <tr>\n",
       "      <th>0</th>\n",
       "      <td>0.155963</td>\n",
       "      <td>0.322581</td>\n",
       "    </tr>\n",
       "    <tr>\n",
       "      <th>1</th>\n",
       "      <td>0.486239</td>\n",
       "      <td>0.096774</td>\n",
       "    </tr>\n",
       "    <tr>\n",
       "      <th>2</th>\n",
       "      <td>0.398165</td>\n",
       "      <td>0.161290</td>\n",
       "    </tr>\n",
       "    <tr>\n",
       "      <th>3</th>\n",
       "      <td>0.555963</td>\n",
       "      <td>0.129032</td>\n",
       "    </tr>\n",
       "    <tr>\n",
       "      <th>4</th>\n",
       "      <td>0.414679</td>\n",
       "      <td>0.225806</td>\n",
       "    </tr>\n",
       "  </tbody>\n",
       "</table>\n",
       "</div>"
      ],
      "text/plain": [
       "      Price  MPG.city\n",
       "0  0.155963  0.322581\n",
       "1  0.486239  0.096774\n",
       "2  0.398165  0.161290\n",
       "3  0.555963  0.129032\n",
       "4  0.414679  0.225806"
      ]
     },
     "execution_count": 3,
     "metadata": {},
     "output_type": "execute_result"
    }
   ],
   "source": [
    "C.head()"
   ]
  },
  {
   "cell_type": "markdown",
   "id": "f6ffdb9a",
   "metadata": {},
   "source": [
    "# 3.deciding the requried no. clusters"
   ]
  },
  {
   "cell_type": "code",
   "execution_count": 4,
   "id": "78706572",
   "metadata": {},
   "outputs": [
    {
     "data": {
      "text/plain": [
       "array([8, 9, 2, 9, 2, 7, 5, 5, 2, 9, 0, 8, 1, 7, 7, 5, 5, 5, 9, 7, 8, 2,\n",
       "       3, 1, 1, 5, 7, 2, 3, 7, 3, 1, 1, 7, 8, 5, 7, 5, 4, 3, 8, 4, 8, 3,\n",
       "       1, 1, 7, 0, 2, 9, 9, 9, 3, 3, 8, 5, 9, 2, 6, 8, 7, 3, 2, 3, 8, 5,\n",
       "       7, 8, 8, 5, 5, 8, 3, 1, 7, 7, 2, 2, 3, 3, 1, 8, 4, 3, 8, 7, 5, 1,\n",
       "       5, 7, 5, 2, 2])"
      ]
     },
     "execution_count": 4,
     "metadata": {},
     "output_type": "execute_result"
    }
   ],
   "source": [
    "from sklearn.cluster import KMeans\n",
    "km=KMeans(n_clusters=10)\n",
    "model=km.fit(C)\n",
    "model.labels_"
   ]
  },
  {
   "cell_type": "code",
   "execution_count": 5,
   "id": "5a8d317d",
   "metadata": {},
   "outputs": [
    {
     "data": {
      "text/plain": [
       "Cluster\n",
       "0     2\n",
       "1    10\n",
       "2    12\n",
       "3    13\n",
       "4     3\n",
       "5    15\n",
       "6     1\n",
       "7    15\n",
       "8    14\n",
       "9     8\n",
       "Name: Cluster, dtype: int64"
      ]
     },
     "execution_count": 5,
     "metadata": {},
     "output_type": "execute_result"
    }
   ],
   "source": [
    "Q=pd.DataFrame(model.labels_,columns=[\"Cluster\"])\n",
    "Q.groupby(by=\"Cluster\")[\"Cluster\"].count()"
   ]
  },
  {
   "cell_type": "code",
   "execution_count": 6,
   "id": "f1bcd113",
   "metadata": {},
   "outputs": [],
   "source": [
    "K=range(2,20,1)\n",
    "WCSS=[]\n",
    "for i in K:\n",
    "    km=KMeans(n_clusters=i)\n",
    "    model=km.fit(C)\n",
    "    WCSS.append(model.inertia_)"
   ]
  },
  {
   "cell_type": "code",
   "execution_count": 7,
   "id": "6a7d1ca7",
   "metadata": {},
   "outputs": [
    {
     "data": {
      "text/plain": [
       "[2.984556204508492,\n",
       " 1.7604339512829656,\n",
       " 1.2111248917250903,\n",
       " 0.8103577450268153,\n",
       " 0.5533447368852447,\n",
       " 0.4430024390535746,\n",
       " 0.3630899651247165,\n",
       " 0.32077643727665933,\n",
       " 0.2778537638598535,\n",
       " 0.26068847775534737,\n",
       " 0.22487817771605392,\n",
       " 0.20066690169132093,\n",
       " 0.17784516591613556,\n",
       " 0.154081966830844,\n",
       " 0.13795069858501047,\n",
       " 0.12928345824189463,\n",
       " 0.11547394287238745,\n",
       " 0.10529296557788523]"
      ]
     },
     "execution_count": 7,
     "metadata": {},
     "output_type": "execute_result"
    }
   ],
   "source": [
    "WCSS"
   ]
  },
  {
   "cell_type": "code",
   "execution_count": 8,
   "id": "5e9cfee8",
   "metadata": {},
   "outputs": [
    {
     "data": {
      "text/plain": [
       "Text(0.5, 1.0, 'Elbow curve car data')"
      ]
     },
     "execution_count": 8,
     "metadata": {},
     "output_type": "execute_result"
    },
    {
     "data": {
      "image/png": "[encoded data removed]",
      "text/plain": [
       "<Figure size 432x288 with 1 Axes>"
      ]
     },
     "metadata": {
      "needs_background": "light"
     },
     "output_type": "display_data"
    }
   ],
   "source": [
    "import matplotlib.pyplot as plt\n",
    "plt.scatter(K,WCSS,c=\"blue\")\n",
    "plt.plot(K,WCSS,c=\"red\")\n",
    "plt.xlabel(\"Numbers of clusters-K\")\n",
    "plt.ylabel(\"WCSS|Inertia\")\n",
    "plt.xticks(range(1,20,1))\n",
    "plt.yticks(range(0,5,1))\n",
    "plt.title(\"Elbow curve car data\")"
   ]
  },
  {
   "cell_type": "markdown",
   "id": "b9b73cd3",
   "metadata": {},
   "source": [
    "# 4.Make new cluster model"
   ]
  },
  {
   "cell_type": "code",
   "execution_count": 9,
   "id": "7cc91699",
   "metadata": {},
   "outputs": [
    {
     "data": {
      "text/plain": [
       "array([3, 5, 5, 5, 5, 3, 0, 0, 0, 5, 5, 3, 3, 0, 3, 0, 0, 0, 5, 0, 3, 5,\n",
       "       1, 3, 3, 0, 3, 0, 1, 0, 1, 3, 3, 3, 3, 0, 0, 0, 4, 1, 3, 4, 3, 1,\n",
       "       3, 1, 3, 2, 5, 5, 5, 5, 1, 1, 3, 0, 5, 5, 2, 3, 0, 1, 0, 1, 3, 0,\n",
       "       0, 3, 3, 0, 0, 3, 1, 3, 0, 0, 0, 5, 1, 1, 3, 3, 4, 1, 3, 3, 0, 3,\n",
       "       0, 0, 0, 0, 0])"
      ]
     },
     "execution_count": 9,
     "metadata": {},
     "output_type": "execute_result"
    }
   ],
   "source": [
    "from sklearn.cluster import KMeans\n",
    "km=KMeans(n_clusters=6)\n",
    "model=km.fit(C)\n",
    "model.labels_"
   ]
  },
  {
   "cell_type": "code",
   "execution_count": 10,
   "id": "48a9616d",
   "metadata": {},
   "outputs": [
    {
     "data": {
      "text/plain": [
       "Text(0, 0.5, 'Mileage')"
      ]
     },
     "execution_count": 10,
     "metadata": {},
     "output_type": "execute_result"
    },
    {
     "data": {
      "image/png": "[encoded data removed]",
      "text/plain": [
       "<Figure size 432x288 with 1 Axes>"
      ]
     },
     "metadata": {
      "needs_background": "light"
     },
     "output_type": "display_data"
    }
   ],
   "source": [
    "import matplotlib.pyplot as plt\n",
    "plt.scatter(B.Price,B['MPG.city'],c=model.labels_)\n",
    "plt.xlabel(\"Price\")\n",
    "plt.ylabel(\"Mileage\")"
   ]
  },
  {
   "cell_type": "code",
   "execution_count": 11,
   "id": "2ecf805a",
   "metadata": {},
   "outputs": [
    {
     "data": {
      "text/plain": [
       "array([[0.24201835, 0.11182796],\n",
       "       [0.04718218, 0.46774194],\n",
       "       [0.87155963, 0.09677419],\n",
       "       [0.12900981, 0.26585095],\n",
       "       [0.04220183, 0.88172043],\n",
       "       [0.47547401, 0.10967742]])"
      ]
     },
     "execution_count": 11,
     "metadata": {},
     "output_type": "execute_result"
    }
   ],
   "source": [
    "model.cluster_centers_"
   ]
  },
  {
   "cell_type": "code",
   "execution_count": 12,
   "id": "2339e3ed",
   "metadata": {},
   "outputs": [],
   "source": [
    "E=pd.DataFrame(mm.inverse_transform(model.cluster_centers_),columns=[\"X\",\"Y\"])"
   ]
  },
  {
   "cell_type": "code",
   "execution_count": 13,
   "id": "2bffaa43",
   "metadata": {},
   "outputs": [
    {
     "data": {
      "text/html": [
       "<div>\n",
       "<style scoped>\n",
       "    .dataframe tbody tr th:only-of-type {\n",
       "        vertical-align: middle;\n",
       "    }\n",
       "\n",
       "    .dataframe tbody tr th {\n",
       "        vertical-align: top;\n",
       "    }\n",
       "\n",
       "    .dataframe thead th {\n",
       "        text-align: right;\n",
       "    }\n",
       "</style>\n",
       "<table border=\"1\" class=\"dataframe\">\n",
       "  <thead>\n",
       "    <tr style=\"text-align: right;\">\n",
       "      <th></th>\n",
       "      <th>X</th>\n",
       "      <th>Y</th>\n",
       "    </tr>\n",
       "  </thead>\n",
       "  <tbody>\n",
       "    <tr>\n",
       "      <th>0</th>\n",
       "      <td>20.590000</td>\n",
       "      <td>18.466667</td>\n",
       "    </tr>\n",
       "    <tr>\n",
       "      <th>1</th>\n",
       "      <td>9.971429</td>\n",
       "      <td>29.500000</td>\n",
       "    </tr>\n",
       "    <tr>\n",
       "      <th>2</th>\n",
       "      <td>54.900000</td>\n",
       "      <td>18.000000</td>\n",
       "    </tr>\n",
       "    <tr>\n",
       "      <th>3</th>\n",
       "      <td>14.431034</td>\n",
       "      <td>23.241379</td>\n",
       "    </tr>\n",
       "    <tr>\n",
       "      <th>4</th>\n",
       "      <td>9.700000</td>\n",
       "      <td>42.333333</td>\n",
       "    </tr>\n",
       "    <tr>\n",
       "      <th>5</th>\n",
       "      <td>33.313333</td>\n",
       "      <td>18.400000</td>\n",
       "    </tr>\n",
       "  </tbody>\n",
       "</table>\n",
       "</div>"
      ],
      "text/plain": [
       "           X          Y\n",
       "0  20.590000  18.466667\n",
       "1   9.971429  29.500000\n",
       "2  54.900000  18.000000\n",
       "3  14.431034  23.241379\n",
       "4   9.700000  42.333333\n",
       "5  33.313333  18.400000"
      ]
     },
     "execution_count": 13,
     "metadata": {},
     "output_type": "execute_result"
    }
   ],
   "source": [
    "E"
   ]
  },
  {
   "cell_type": "code",
   "execution_count": 14,
   "id": "33aaef0c",
   "metadata": {},
   "outputs": [],
   "source": [
    "B[\"X\"]=E.X\n",
    "B[\"Y\"]=E.Y\n",
    "B[\"Clusters\"]=model.labels_\n",
    "B[\"Make\"]=A.Make"
   ]
  },
  {
   "cell_type": "code",
   "execution_count": 15,
   "id": "fb65295a",
   "metadata": {},
   "outputs": [
    {
     "data": {
      "text/html": [
       "<div>\n",
       "<style scoped>\n",
       "    .dataframe tbody tr th:only-of-type {\n",
       "        vertical-align: middle;\n",
       "    }\n",
       "\n",
       "    .dataframe tbody tr th {\n",
       "        vertical-align: top;\n",
       "    }\n",
       "\n",
       "    .dataframe thead th {\n",
       "        text-align: right;\n",
       "    }\n",
       "</style>\n",
       "<table border=\"1\" class=\"dataframe\">\n",
       "  <thead>\n",
       "    <tr style=\"text-align: right;\">\n",
       "      <th></th>\n",
       "      <th>Price</th>\n",
       "      <th>MPG.city</th>\n",
       "      <th>X</th>\n",
       "      <th>Y</th>\n",
       "      <th>Clusters</th>\n",
       "      <th>Make</th>\n",
       "    </tr>\n",
       "  </thead>\n",
       "  <tbody>\n",
       "    <tr>\n",
       "      <th>0</th>\n",
       "      <td>15.9</td>\n",
       "      <td>25</td>\n",
       "      <td>20.590000</td>\n",
       "      <td>18.466667</td>\n",
       "      <td>3</td>\n",
       "      <td>Acura Integra</td>\n",
       "    </tr>\n",
       "    <tr>\n",
       "      <th>1</th>\n",
       "      <td>33.9</td>\n",
       "      <td>18</td>\n",
       "      <td>9.971429</td>\n",
       "      <td>29.500000</td>\n",
       "      <td>5</td>\n",
       "      <td>Acura Legend</td>\n",
       "    </tr>\n",
       "    <tr>\n",
       "      <th>2</th>\n",
       "      <td>29.1</td>\n",
       "      <td>20</td>\n",
       "      <td>54.900000</td>\n",
       "      <td>18.000000</td>\n",
       "      <td>5</td>\n",
       "      <td>Audi 90</td>\n",
       "    </tr>\n",
       "    <tr>\n",
       "      <th>3</th>\n",
       "      <td>37.7</td>\n",
       "      <td>19</td>\n",
       "      <td>14.431034</td>\n",
       "      <td>23.241379</td>\n",
       "      <td>5</td>\n",
       "      <td>Audi 100</td>\n",
       "    </tr>\n",
       "    <tr>\n",
       "      <th>4</th>\n",
       "      <td>30.0</td>\n",
       "      <td>22</td>\n",
       "      <td>9.700000</td>\n",
       "      <td>42.333333</td>\n",
       "      <td>5</td>\n",
       "      <td>BMW 535i</td>\n",
       "    </tr>\n",
       "  </tbody>\n",
       "</table>\n",
       "</div>"
      ],
      "text/plain": [
       "   Price  MPG.city          X          Y  Clusters           Make\n",
       "0   15.9        25  20.590000  18.466667         3  Acura Integra\n",
       "1   33.9        18   9.971429  29.500000         5   Acura Legend\n",
       "2   29.1        20  54.900000  18.000000         5        Audi 90\n",
       "3   37.7        19  14.431034  23.241379         5       Audi 100\n",
       "4   30.0        22   9.700000  42.333333         5       BMW 535i"
      ]
     },
     "execution_count": 15,
     "metadata": {},
     "output_type": "execute_result"
    }
   ],
   "source": [
    "B.head()"
   ]
  },
  {
   "cell_type": "code",
   "execution_count": 16,
   "id": "36dd23f0",
   "metadata": {},
   "outputs": [
    {
     "data": {
      "text/plain": [
       "Text(0, 0.5, 'Millage in city')"
      ]
     },
     "execution_count": 16,
     "metadata": {},
     "output_type": "execute_result"
    },
    {
     "data": {
      "image/png": "[encoded data removed]",
      "text/plain": [
       "<Figure size 432x288 with 1 Axes>"
      ]
     },
     "metadata": {
      "needs_background": "light"
     },
     "output_type": "display_data"
    }
   ],
   "source": [
    "plt.scatter(B.Price,B[\"MPG.city\"],c=B.Clusters)\n",
    "plt.scatter(E.X,E.Y,c=\"red\",marker=\"+\",s=200)\n",
    "plt.xlabel(\"price of car\")\n",
    "plt.ylabel(\"Millage in city\")"
   ]
  },
  {
   "cell_type": "markdown",
   "id": "37086578",
   "metadata": {},
   "source": [
    "# Get Cars recommendations:"
   ]
  },
  {
   "cell_type": "code",
   "execution_count": 20,
   "id": "87722f3a",
   "metadata": {},
   "outputs": [],
   "source": [
    "km = KMeans(n_clusters=4)\n",
    "model = km.fit(C)\n",
    "B[\"Clusters\"]=model.labels_"
   ]
  },
  {
   "cell_type": "code",
   "execution_count": 21,
   "id": "e704d890",
   "metadata": {},
   "outputs": [],
   "source": [
    "B[\"Make\"]=A.Make"
   ]
  },
  {
   "cell_type": "code",
   "execution_count": 22,
   "id": "df6af2be",
   "metadata": {},
   "outputs": [
    {
     "data": {
      "text/html": [
       "<div>\n",
       "<style scoped>\n",
       "    .dataframe tbody tr th:only-of-type {\n",
       "        vertical-align: middle;\n",
       "    }\n",
       "\n",
       "    .dataframe tbody tr th {\n",
       "        vertical-align: top;\n",
       "    }\n",
       "\n",
       "    .dataframe thead th {\n",
       "        text-align: right;\n",
       "    }\n",
       "</style>\n",
       "<table border=\"1\" class=\"dataframe\">\n",
       "  <thead>\n",
       "    <tr style=\"text-align: right;\">\n",
       "      <th></th>\n",
       "      <th>Price</th>\n",
       "      <th>MPG.city</th>\n",
       "      <th>X</th>\n",
       "      <th>Y</th>\n",
       "      <th>Clusters</th>\n",
       "      <th>Make</th>\n",
       "    </tr>\n",
       "  </thead>\n",
       "  <tbody>\n",
       "    <tr>\n",
       "      <th>0</th>\n",
       "      <td>15.9</td>\n",
       "      <td>25</td>\n",
       "      <td>20.590000</td>\n",
       "      <td>18.466667</td>\n",
       "      <td>0</td>\n",
       "      <td>Acura Integra</td>\n",
       "    </tr>\n",
       "    <tr>\n",
       "      <th>1</th>\n",
       "      <td>33.9</td>\n",
       "      <td>18</td>\n",
       "      <td>9.971429</td>\n",
       "      <td>29.500000</td>\n",
       "      <td>2</td>\n",
       "      <td>Acura Legend</td>\n",
       "    </tr>\n",
       "    <tr>\n",
       "      <th>2</th>\n",
       "      <td>29.1</td>\n",
       "      <td>20</td>\n",
       "      <td>54.900000</td>\n",
       "      <td>18.000000</td>\n",
       "      <td>2</td>\n",
       "      <td>Audi 90</td>\n",
       "    </tr>\n",
       "    <tr>\n",
       "      <th>3</th>\n",
       "      <td>37.7</td>\n",
       "      <td>19</td>\n",
       "      <td>14.431034</td>\n",
       "      <td>23.241379</td>\n",
       "      <td>2</td>\n",
       "      <td>Audi 100</td>\n",
       "    </tr>\n",
       "    <tr>\n",
       "      <th>4</th>\n",
       "      <td>30.0</td>\n",
       "      <td>22</td>\n",
       "      <td>9.700000</td>\n",
       "      <td>42.333333</td>\n",
       "      <td>2</td>\n",
       "      <td>BMW 535i</td>\n",
       "    </tr>\n",
       "    <tr>\n",
       "      <th>...</th>\n",
       "      <td>...</td>\n",
       "      <td>...</td>\n",
       "      <td>...</td>\n",
       "      <td>...</td>\n",
       "      <td>...</td>\n",
       "      <td>...</td>\n",
       "    </tr>\n",
       "    <tr>\n",
       "      <th>88</th>\n",
       "      <td>19.7</td>\n",
       "      <td>17</td>\n",
       "      <td>NaN</td>\n",
       "      <td>NaN</td>\n",
       "      <td>1</td>\n",
       "      <td>Volkswagen Eurovan</td>\n",
       "    </tr>\n",
       "    <tr>\n",
       "      <th>89</th>\n",
       "      <td>20.0</td>\n",
       "      <td>21</td>\n",
       "      <td>NaN</td>\n",
       "      <td>NaN</td>\n",
       "      <td>1</td>\n",
       "      <td>Volkswagen Passat</td>\n",
       "    </tr>\n",
       "    <tr>\n",
       "      <th>90</th>\n",
       "      <td>23.3</td>\n",
       "      <td>18</td>\n",
       "      <td>NaN</td>\n",
       "      <td>NaN</td>\n",
       "      <td>1</td>\n",
       "      <td>Volkswagen Corrado</td>\n",
       "    </tr>\n",
       "    <tr>\n",
       "      <th>91</th>\n",
       "      <td>22.7</td>\n",
       "      <td>21</td>\n",
       "      <td>NaN</td>\n",
       "      <td>NaN</td>\n",
       "      <td>1</td>\n",
       "      <td>Volvo 240</td>\n",
       "    </tr>\n",
       "    <tr>\n",
       "      <th>92</th>\n",
       "      <td>26.7</td>\n",
       "      <td>20</td>\n",
       "      <td>NaN</td>\n",
       "      <td>NaN</td>\n",
       "      <td>1</td>\n",
       "      <td>Volvo 850</td>\n",
       "    </tr>\n",
       "  </tbody>\n",
       "</table>\n",
       "<p>93 rows × 6 columns</p>\n",
       "</div>"
      ],
      "text/plain": [
       "    Price  MPG.city          X          Y  Clusters                Make\n",
       "0    15.9        25  20.590000  18.466667         0       Acura Integra\n",
       "1    33.9        18   9.971429  29.500000         2        Acura Legend\n",
       "2    29.1        20  54.900000  18.000000         2             Audi 90\n",
       "3    37.7        19  14.431034  23.241379         2            Audi 100\n",
       "4    30.0        22   9.700000  42.333333         2            BMW 535i\n",
       "..    ...       ...        ...        ...       ...                 ...\n",
       "88   19.7        17        NaN        NaN         1  Volkswagen Eurovan\n",
       "89   20.0        21        NaN        NaN         1   Volkswagen Passat\n",
       "90   23.3        18        NaN        NaN         1  Volkswagen Corrado\n",
       "91   22.7        21        NaN        NaN         1           Volvo 240\n",
       "92   26.7        20        NaN        NaN         1           Volvo 850\n",
       "\n",
       "[93 rows x 6 columns]"
      ]
     },
     "execution_count": 22,
     "metadata": {},
     "output_type": "execute_result"
    }
   ],
   "source": [
    "B"
   ]
  },
  {
   "cell_type": "code",
   "execution_count": 26,
   "id": "ee930ff8",
   "metadata": {},
   "outputs": [
    {
     "name": "stdout",
     "output_type": "stream",
     "text": [
      "Enter a car Make to see similar cars: Chevrolet Corvette\n",
      "Entered Car:  Chevrolet Corvette\n",
      "Similar Cars:  ['Acura Legend', 'Audi 90', 'Audi 100', 'BMW 535i', 'Cadillac DeVille', 'Cadillac Seville', 'Chrysler Imperial', 'Infiniti Q45', 'Lexus ES300', 'Lexus SC300', 'Lincoln Continental', 'Lincoln Town_Car', 'Mazda RX-7', 'Mercedes-Benz 190E', 'Mercedes-Benz 300E', 'Saab 900']\n"
     ]
    }
   ],
   "source": [
    "cm = input(\"Enter a car Make to see similar cars: \")\n",
    "\n",
    "cluster_number_of_given_car = list(B[B.Make==cm].Clusters)[0]\n",
    "\n",
    "W = list(B[B.Clusters == cluster_number_of_given_car].Make)\n",
    "W.remove(cm)\n",
    "\n",
    "print(\"Entered Car: \",cm)\n",
    "print(\"Similar Cars: \",W)"
   ]
  },
  {
   "cell_type": "code",
   "execution_count": null,
   "id": "72c96805",
   "metadata": {},
   "outputs": [],
   "source": []
  },
  {
   "cell_type": "code",
   "execution_count": null,
   "id": "6a1f142e",
   "metadata": {},
   "outputs": [],
   "source": []
  }
 ],
 "metadata": {
  "kernelspec": {
   "display_name": "Python 3 (ipykernel)",
   "language": "python",
   "name": "python3"
  },
  "language_info": {
   "codemirror_mode": {
    "name": "ipython",
    "version": 3
   },
   "file_extension": ".py",
   "mimetype": "text/x-python",
   "name": "python",
   "nbconvert_exporter": "python",
   "pygments_lexer": "ipython3",
   "version": "3.9.7"
  }
 },
 "nbformat": 4,
 "nbformat_minor": 5
}
